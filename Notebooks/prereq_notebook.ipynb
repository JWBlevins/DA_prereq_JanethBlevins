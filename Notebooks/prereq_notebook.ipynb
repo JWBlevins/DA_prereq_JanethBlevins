print("Hello, Academy!")

## About Me
Hi, I'm Janeth Blevins! I'm excited to learn data analysis and became confident using 
Python and more.     