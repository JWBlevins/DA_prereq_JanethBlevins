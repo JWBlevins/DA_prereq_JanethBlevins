{
 "cells": [
  {
   "cell_type": "code",
   "execution_count": 1,
   "id": "60be772d",
   "metadata": {},
   "outputs": [
    {
     "name": "stdout",
     "output_type": "stream",
     "text": [
      "Hello, Data Academy!\n"
     ]
    }
   ],
   "source": [
    "print(\"Hello, Data Academy!\")\n"
   ]
  },
  {
   "cell_type": "markdown",
   "id": "9eedbb4f",
   "metadata": {},
   "source": [
    "## About Me\n",
    "Hi, I'm Janeth Blevins! excited to learn data analysis and become confident using Python and more."
   ]
  }
 ],
 "metadata": {
  "kernelspec": {
   "display_name": "Python 3",
   "language": "python",
   "name": "python3"
  },
  "language_info": {
   "codemirror_mode": {
    "name": "ipython",
    "version": 3
   },
   "file_extension": ".py",
   "mimetype": "text/x-python",
   "name": "python",
   "nbconvert_exporter": "python",
   "pygments_lexer": "ipython3",
   "version": "3.13.5"
  }
 },
 "nbformat": 4,
 "nbformat_minor": 5
}
